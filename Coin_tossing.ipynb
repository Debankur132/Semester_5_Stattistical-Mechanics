{
  "nbformat": 4,
  "nbformat_minor": 0,
  "metadata": {
    "colab": {
      "name": "Coin tossing.ipynb",
      "provenance": [],
      "authorship_tag": "ABX9TyMRMjvBKCirhNYpLwtNhkTS",
      "include_colab_link": true
    },
    "kernelspec": {
      "name": "python3",
      "display_name": "Python 3"
    },
    "language_info": {
      "name": "python"
    }
  },
  "cells": [
    {
      "cell_type": "markdown",
      "metadata": {
        "id": "view-in-github",
        "colab_type": "text"
      },
      "source": [
        "<a href=\"https://colab.research.google.com/github/Debankur132/Semester_5_Stattistical-Mechanics/blob/main/Coin_tossing.ipynb\" target=\"_parent\"><img src=\"https://colab.research.google.com/assets/colab-badge.svg\" alt=\"Open In Colab\"/></a>"
      ]
    },
    {
      "cell_type": "code",
      "execution_count": 50,
      "metadata": {
        "id": "x3kmocw5Z0gg"
      },
      "outputs": [],
      "source": [
        "import numpy as np"
      ]
    },
    {
      "cell_type": "code",
      "source": [
        "nmax=5000 # number of observers for the experiment"
      ],
      "metadata": {
        "id": "K2qHq6g6ccJo"
      },
      "execution_count": 51,
      "outputs": []
    },
    {
      "cell_type": "code",
      "source": [
        "n_toss=3 #number of tosses done by a single observer"
      ],
      "metadata": {
        "id": "5ExATIwDeobg"
      },
      "execution_count": 52,
      "outputs": []
    },
    {
      "cell_type": "code",
      "source": [
        "n=np.arange(n_toss+1)\n",
        "\n"
      ],
      "metadata": {
        "id": "u4nS6Gy-hLme"
      },
      "execution_count": 53,
      "outputs": []
    },
    {
      "cell_type": "code",
      "source": [
        "count_heads=np.zeros(n_toss+1)  # to count the number of heads \n"
      ],
      "metadata": {
        "id": "U3DuEhCCeMj2"
      },
      "execution_count": 54,
      "outputs": []
    },
    {
      "cell_type": "code",
      "source": [
        "heads=0 # to calculate the number of heads for a single outcome"
      ],
      "metadata": {
        "id": "LWgKlMxgfCU3"
      },
      "execution_count": 55,
      "outputs": []
    },
    {
      "cell_type": "code",
      "source": [
        "for i in range(nmax):\n",
        "  for j in range(n_toss):\n",
        "    r=np.random.random()\n",
        "    if r>=0.5:\n",
        "      heads=heads+1\n",
        "  for k in range(len(n)):\n",
        "    if int(heads)==n[k]:\n",
        "      count_heads[k]+=1\n",
        "  heads=0"
      ],
      "metadata": {
        "id": "89HVz1cSfDfX"
      },
      "execution_count": 56,
      "outputs": []
    },
    {
      "cell_type": "code",
      "source": [
        "P=count_heads/np.sum(count_heads) # ndarray to store the prbability of the each no. of heads"
      ],
      "metadata": {
        "id": "pILYYo5Qhj2a"
      },
      "execution_count": 57,
      "outputs": []
    },
    {
      "cell_type": "code",
      "source": [
        "print(\"Number of Observers \",nmax)\n",
        "for i in range(len(P)):\n",
        "  print(P[i])"
      ],
      "metadata": {
        "colab": {
          "base_uri": "https://localhost:8080/"
        },
        "id": "bWUR_GoSiS_y",
        "outputId": "426111e8-76d1-42cc-84e8-9a008dd165f9"
      },
      "execution_count": 58,
      "outputs": [
        {
          "output_type": "stream",
          "name": "stdout",
          "text": [
            "Number of Observers  5000\n",
            "0.124\n",
            "0.3786\n",
            "0.3746\n",
            "0.1228\n"
          ]
        }
      ]
    },
    {
      "cell_type": "code",
      "source": [
        ""
      ],
      "metadata": {
        "id": "1Ea9DW3miynV"
      },
      "execution_count": 58,
      "outputs": []
    },
    {
      "cell_type": "markdown",
      "source": [
        ""
      ],
      "metadata": {
        "id": "rk_R1f6jlViN"
      }
    }
  ]
}