{
  "nbformat": 4,
  "nbformat_minor": 0,
  "metadata": {
    "colab": {
      "name": "Approach to equilibrium.ipynb",
      "provenance": [],
      "authorship_tag": "ABX9TyNVYZX4WvMGaeqsSHVfssfd",
      "include_colab_link": true
    },
    "kernelspec": {
      "name": "python3",
      "display_name": "Python 3"
    },
    "language_info": {
      "name": "python"
    }
  },
  "cells": [
    {
      "cell_type": "markdown",
      "metadata": {
        "id": "view-in-github",
        "colab_type": "text"
      },
      "source": [
        "<a href=\"https://colab.research.google.com/github/Debankur132/Semester_5_Stattistical-Mechanics/blob/main/Approach_to_equilibrium.ipynb\" target=\"_parent\"><img src=\"https://colab.research.google.com/assets/colab-badge.svg\" alt=\"Open In Colab\"/></a>"
      ]
    },
    {
      "cell_type": "code",
      "execution_count": 146,
      "metadata": {
        "colab": {
          "base_uri": "https://localhost:8080/",
          "height": 350
        },
        "id": "OttADeqYfpTd",
        "outputId": "aa4ad15f-f71c-481b-ac56-aa9f4de6eacf"
      },
      "outputs": [
        {
          "output_type": "stream",
          "name": "stdout",
          "text": [
            "<n> =  0.49303406813627254\n",
            "<n^2> = 0.24311490581162323\n",
            "σ =  0.0056844936995824715\n"
          ]
        },
        {
          "output_type": "display_data",
          "data": {
            "image/png": "[encoded data removed]",
            "text/plain": [
              "<Figure size 432x288 with 1 Axes>"
            ]
          },
          "metadata": {
            "needs_background": "light"
          }
        }
      ],
      "source": [
        "N=1000 # Number of particles\n",
        "n=N # n is the number of particles in the left box\n",
        "import numpy as np\n",
        "tot_time=10*N # taking time to be 1000 seconds \n",
        "t=np.arange(tot_time) # ndarray storing all values from 0 to 1000 \n",
        "n_A=np.zeros(len(t)) # a ndarray to store fraction of total number of particles in box A\n",
        "s_n=np.zeros(len(t)) # store the value of n \n",
        "for i in t:\n",
        "  r=np.random.random() # to get a random decimal number between 0 and 1\n",
        "  if r<=n/N:\n",
        "    n=n-1\n",
        "  else:\n",
        "    n=n+1\n",
        "  n_A[i]=n/N\n",
        "  s_n[i]=n\n",
        "h_n=int(N/2) #half of the total number of particles\n",
        "H_A=n_A[-h_n:-1] # n_A after half of the time is over\n",
        "n_ave=np.mean(H_A) # to get the average value of n\n",
        "n2_ave=np.mean(H_A**2) #to get the average value of n^2\n",
        "sig=np.sqrt(n2_ave-(n_ave)**2) # to get the standard deviation\n",
        "print('<n> = ',n_ave)\n",
        "print('<n^2> =',n2_ave)\n",
        "print('\\N{greek small letter sigma} = ',sig)\n",
        "import matplotlib.pyplot as plt\n",
        "\n",
        "plt.plot(t,n_A)\n",
        "plt.title(r'$\\frac{n}{N}$ vs time')\n",
        "\n",
        "plt.axis([0,tot_time,0.0,1.0])\n",
        "plt.yticks(np.arange(0,1.1,0.1))\n",
        "plt.xlabel('time')\n",
        "plt.ylabel(r'$\\frac{n}{N}$')\n",
        "plt.grid(True)\n",
        "plt.show()"
      ]
    },
    {
      "cell_type": "code",
      "source": [
        ""
      ],
      "metadata": {
        "id": "-u7qx43eghgL"
      },
      "execution_count": 126,
      "outputs": []
    },
    {
      "cell_type": "code",
      "source": [
        ""
      ],
      "metadata": {
        "id": "ODgDuoe0gmDl"
      },
      "execution_count": 136,
      "outputs": []
    },
    {
      "cell_type": "code",
      "source": [
        ""
      ],
      "metadata": {
        "colab": {
          "base_uri": "https://localhost:8080/"
        },
        "id": "wHpNCu8PguJG",
        "outputId": "95b071b8-db27-4429-c902-da1617e75df6"
      },
      "execution_count": 137,
      "outputs": [
        {
          "output_type": "execute_result",
          "data": {
            "text/plain": [
              "array([-10,  -8,  -6,  -4,  -2,   0,   2,   4,   6,   8,  10])"
            ]
          },
          "metadata": {},
          "execution_count": 137
        }
      ]
    },
    {
      "cell_type": "code",
      "source": [
        ""
      ],
      "metadata": {
        "id": "oqwD2xX_g5Ws"
      },
      "execution_count": 129,
      "outputs": []
    },
    {
      "cell_type": "code",
      "source": [
        ""
      ],
      "metadata": {
        "id": "ruQJAvxcukQ3"
      },
      "execution_count": 130,
      "outputs": []
    },
    {
      "cell_type": "code",
      "source": [
        ""
      ],
      "metadata": {
        "id": "VddO4nghiK2S"
      },
      "execution_count": 131,
      "outputs": []
    },
    {
      "cell_type": "code",
      "source": [
        ""
      ],
      "metadata": {
        "colab": {
          "base_uri": "https://localhost:8080/"
        },
        "id": "aVrBs1JCCVK_",
        "outputId": "ddcd2859-e832-4bf2-936e-2c734d64fb56"
      },
      "execution_count": 132,
      "outputs": [
        {
          "output_type": "stream",
          "name": "stdout",
          "text": [
            "<n> =  0.4312244897959183\n",
            "<n^2> = 0.18694081632653062\n",
            "σ =  0.03140470867211705\n"
          ]
        }
      ]
    },
    {
      "cell_type": "code",
      "source": [
        ""
      ],
      "metadata": {
        "id": "oMv3Jwb5-bvx"
      },
      "execution_count": 133,
      "outputs": []
    },
    {
      "cell_type": "code",
      "source": [
        ""
      ],
      "metadata": {
        "colab": {
          "base_uri": "https://localhost:8080/",
          "height": 283
        },
        "id": "2j-SZJmGiTHa",
        "outputId": "dc93c6b6-ba26-419d-dc28-b6f97f7903e9"
      },
      "execution_count": 134,
      "outputs": [
        {
          "output_type": "display_data",
          "data": {
            "image/png": "[encoded data removed]",
            "text/plain": [
              "<Figure size 432x288 with 1 Axes>"
            ]
          },
          "metadata": {
            "needs_background": "light"
          }
        }
      ]
    },
    {
      "cell_type": "code",
      "source": [
        ""
      ],
      "metadata": {
        "id": "R61eg9XNiW5z"
      },
      "execution_count": 134,
      "outputs": []
    },
    {
      "cell_type": "code",
      "source": [
        ""
      ],
      "metadata": {
        "id": "Y7QCOWklvpB5"
      },
      "execution_count": 134,
      "outputs": []
    },
    {
      "cell_type": "code",
      "source": [
        ""
      ],
      "metadata": {
        "id": "3rT3NhQqvpqi"
      },
      "execution_count": 134,
      "outputs": []
    },
    {
      "cell_type": "code",
      "source": [
        ""
      ],
      "metadata": {
        "id": "RZwx__59xPDn"
      },
      "execution_count": 134,
      "outputs": []
    },
    {
      "cell_type": "code",
      "source": [
        ""
      ],
      "metadata": {
        "id": "2a08L4u24pp3"
      },
      "execution_count": 134,
      "outputs": []
    },
    {
      "cell_type": "code",
      "source": [
        ""
      ],
      "metadata": {
        "id": "UXui9Mx54794"
      },
      "execution_count": 134,
      "outputs": []
    }
  ]
}