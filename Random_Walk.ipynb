{
  "nbformat": 4,
  "nbformat_minor": 0,
  "metadata": {
    "colab": {
      "name": "Random_Walk.ipynb",
      "provenance": [],
      "authorship_tag": "ABX9TyMyvtmchQlYXf5CjxWT4E9V",
      "include_colab_link": true
    },
    "kernelspec": {
      "name": "python3",
      "display_name": "Python 3"
    },
    "language_info": {
      "name": "python"
    }
  },
  "cells": [
    {
      "cell_type": "markdown",
      "metadata": {
        "id": "view-in-github",
        "colab_type": "text"
      },
      "source": [
        "<a href=\"https://colab.research.google.com/github/Debankur132/Semester_5_Stattistical-Mechanics/blob/main/Random_Walk.ipynb\" target=\"_parent\"><img src=\"https://colab.research.google.com/assets/colab-badge.svg\" alt=\"Open In Colab\"/></a>"
      ]
    },
    {
      "cell_type": "code",
      "execution_count": 1,
      "metadata": {
        "id": "nQ-t1VW81UQf"
      },
      "outputs": [],
      "source": [
        "import numpy as np"
      ]
    },
    {
      "cell_type": "code",
      "source": [
        "import matplotlib.pyplot as plt"
      ],
      "metadata": {
        "id": "ZESOrc2s3W8a"
      },
      "execution_count": 2,
      "outputs": []
    },
    {
      "cell_type": "code",
      "source": [
        "n_d=10000 #number of drunkard"
      ],
      "metadata": {
        "id": "bxEJOBEz3Zjc"
      },
      "execution_count": 11,
      "outputs": []
    },
    {
      "cell_type": "code",
      "source": [
        "n_steps=10 # number of steps taken by each drunkard"
      ],
      "metadata": {
        "id": "qs0DdCYJ3xKS"
      },
      "execution_count": 4,
      "outputs": []
    },
    {
      "cell_type": "code",
      "source": [
        "x=0 #The central value of x"
      ],
      "metadata": {
        "id": "sQS1auHY37Xb"
      },
      "execution_count": 12,
      "outputs": []
    },
    {
      "cell_type": "code",
      "source": [
        "X=np.arange(-n_steps,n_steps+1) # ndarray containing all possible x values"
      ],
      "metadata": {
        "id": "rCL9NRU35K5i"
      },
      "execution_count": 9,
      "outputs": []
    },
    {
      "cell_type": "code",
      "source": [
        "count_steps=np.zeros(len(X)) # count the number of steps at each x position"
      ],
      "metadata": {
        "id": "WWQR2qaB5XWA"
      },
      "execution_count": 10,
      "outputs": []
    },
    {
      "cell_type": "code",
      "source": [
        "for i in range(n_d):\n",
        "  for j in range(n_steps):\n",
        "    r=np.random.random()\n",
        "    if r>=0.5:\n",
        "      x=x+1\n",
        "    else:\n",
        "      x=x-1\n",
        "  for k in range(len(X)):\n",
        "    if x==X[k]:\n",
        "      count_steps[k]+=1\n",
        "  x=0\n",
        "P=count_steps/np.sum(count_steps)\n",
        "print(\"Number of Drunkards\",n_d)\n",
        "print(\"Number of steps\",n_steps)\n",
        "print(\"Probability Distribution : \")\n",
        "for i in range(len(P)):\n",
        "  print('At x = %d the probability is : '%X[i],P[i])\n",
        "plt.bar(X,P)\n",
        "plt.grid(True)\n",
        "plt.xlabel('x')\n",
        "plt.ylabel('P(x)')\n",
        "plt.xticks(X)\n",
        "plt.title(\"Plot of P(x) vs. x\")\n",
        "plt.show()\n"
      ],
      "metadata": {
        "colab": {
          "base_uri": "https://localhost:8080/",
          "height": 712
        },
        "id": "tg_ud7az5gmA",
        "outputId": "8245172d-4faa-46cd-9d63-3ca5e7fc7eb8"
      },
      "execution_count": 16,
      "outputs": [
        {
          "output_type": "stream",
          "name": "stdout",
          "text": [
            "Number of Drunkards 10000\n",
            "Number of steps 10\n",
            "Probability Distribution : \n",
            "At x = -10 the probability is :  0.001025\n",
            "At x = -9 the probability is :  0.0\n",
            "At x = -8 the probability is :  0.010225\n",
            "At x = -7 the probability is :  0.0\n",
            "At x = -6 the probability is :  0.04275\n",
            "At x = -5 the probability is :  0.0\n",
            "At x = -4 the probability is :  0.116625\n",
            "At x = -3 the probability is :  0.0\n",
            "At x = -2 the probability is :  0.204525\n",
            "At x = -1 the probability is :  0.0\n",
            "At x = 0 the probability is :  0.24625\n",
            "At x = 1 the probability is :  0.0\n",
            "At x = 2 the probability is :  0.205325\n",
            "At x = 3 the probability is :  0.0\n",
            "At x = 4 the probability is :  0.11775\n",
            "At x = 5 the probability is :  0.0\n",
            "At x = 6 the probability is :  0.04465\n",
            "At x = 7 the probability is :  0.0\n",
            "At x = 8 the probability is :  0.009725\n",
            "At x = 9 the probability is :  0.0\n",
            "At x = 10 the probability is :  0.00115\n"
          ]
        },
        {
          "output_type": "display_data",
          "data": {
            "image/png": "[encoded data removed]",
            "text/plain": [
              "<Figure size 432x288 with 1 Axes>"
            ]
          },
          "metadata": {
            "needs_background": "light"
          }
        }
      ]
    },
    {
      "cell_type": "code",
      "source": [
        ""
      ],
      "metadata": {
        "id": "eaZ2gIVq_gWp"
      },
      "execution_count": null,
      "outputs": []
    }
  ]
}